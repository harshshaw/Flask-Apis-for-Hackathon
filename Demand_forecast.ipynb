{
  "nbformat": 4,
  "nbformat_minor": 0,
  "metadata": {
    "colab": {
      "name": "Demand_forecast",
      "provenance": [],
      "collapsed_sections": [],
      "authorship_tag": "ABX9TyPqgyypRUA4pEDEv5EaygPG",
      "include_colab_link": true
    },
    "kernelspec": {
      "name": "python3",
      "display_name": "Python 3"
    },
    "language_info": {
      "name": "python"
    }
  },
  "cells": [
    {
      "cell_type": "markdown",
      "metadata": {
        "id": "view-in-github",
        "colab_type": "text"
      },
      "source": [
        "<a href=\"https://colab.research.google.com/github/harshshaw/Machine-learning-Projects/blob/main/Demand_forecast.ipynb\" target=\"_parent\"><img src=\"https://colab.research.google.com/assets/colab-badge.svg\" alt=\"Open In Colab\"/></a>"
      ]
    },
    {
      "cell_type": "code",
      "metadata": {
        "id": "pxXM_iKk_vAD"
      },
      "source": [
        "import pandas as pd\n",
        "import seaborn as sn\n",
        "import numpy as np\n",
        "import matplotlib.pyplot as plt\n"
      ],
      "execution_count": null,
      "outputs": []
    },
    {
      "cell_type": "code",
      "metadata": {
        "colab": {
          "base_uri": "https://localhost:8080/",
          "height": 195
        },
        "id": "W7YNVT-DAGv4",
        "outputId": "8bd18c14-52bb-4c84-d637-232f73f54ea7"
      },
      "source": [
        "data=pd.read_csv(\"train.csv\")\n",
        "data.head(  )"
      ],
      "execution_count": null,
      "outputs": [
        {
          "output_type": "execute_result",
          "data": {
            "text/html": [
              "<div>\n",
              "<style scoped>\n",
              "    .dataframe tbody tr th:only-of-type {\n",
              "        vertical-align: middle;\n",
              "    }\n",
              "\n",
              "    .dataframe tbody tr th {\n",
              "        vertical-align: top;\n",
              "    }\n",
              "\n",
              "    .dataframe thead th {\n",
              "        text-align: right;\n",
              "    }\n",
              "</style>\n",
              "<table border=\"1\" class=\"dataframe\">\n",
              "  <thead>\n",
              "    <tr style=\"text-align: right;\">\n",
              "      <th></th>\n",
              "      <th>date</th>\n",
              "      <th>store</th>\n",
              "      <th>item</th>\n",
              "      <th>sales</th>\n",
              "    </tr>\n",
              "  </thead>\n",
              "  <tbody>\n",
              "    <tr>\n",
              "      <th>0</th>\n",
              "      <td>2013-01-01</td>\n",
              "      <td>1</td>\n",
              "      <td>1</td>\n",
              "      <td>13</td>\n",
              "    </tr>\n",
              "    <tr>\n",
              "      <th>1</th>\n",
              "      <td>2013-01-02</td>\n",
              "      <td>1</td>\n",
              "      <td>1</td>\n",
              "      <td>11</td>\n",
              "    </tr>\n",
              "    <tr>\n",
              "      <th>2</th>\n",
              "      <td>2013-01-03</td>\n",
              "      <td>1</td>\n",
              "      <td>1</td>\n",
              "      <td>14</td>\n",
              "    </tr>\n",
              "    <tr>\n",
              "      <th>3</th>\n",
              "      <td>2013-01-04</td>\n",
              "      <td>1</td>\n",
              "      <td>1</td>\n",
              "      <td>13</td>\n",
              "    </tr>\n",
              "    <tr>\n",
              "      <th>4</th>\n",
              "      <td>2013-01-05</td>\n",
              "      <td>1</td>\n",
              "      <td>1</td>\n",
              "      <td>10</td>\n",
              "    </tr>\n",
              "  </tbody>\n",
              "</table>\n",
              "</div>"
            ],
            "text/plain": [
              "         date  store  item  sales\n",
              "0  2013-01-01      1     1     13\n",
              "1  2013-01-02      1     1     11\n",
              "2  2013-01-03      1     1     14\n",
              "3  2013-01-04      1     1     13\n",
              "4  2013-01-05      1     1     10"
            ]
          },
          "metadata": {
            "tags": []
          },
          "execution_count": 20
        }
      ]
    },
    {
      "cell_type": "code",
      "metadata": {
        "colab": {
          "base_uri": "https://localhost:8080/",
          "height": 296
        },
        "id": "oLTn--T7ASbn",
        "outputId": "fb95d2ef-5cfb-42da-8d80-86e441cc5251"
      },
      "source": [
        "sn.histplot(data=data,x=\"sales\",kde=True)\n"
      ],
      "execution_count": null,
      "outputs": [
        {
          "output_type": "execute_result",
          "data": {
            "text/plain": [
              "<matplotlib.axes._subplots.AxesSubplot at 0x7f50e358ec50>"
            ]
          },
          "metadata": {
            "tags": []
          },
          "execution_count": 21
        },
        {
          "output_type": "display_data",
          "data": {
            "image/png": "[encoded data removed]",
            "text/plain": [
              "<Figure size 432x288 with 1 Axes>"
            ]
          },
          "metadata": {
            "tags": [],
            "needs_background": "light"
          }
        }
      ]
    },
    {
      "cell_type": "code",
      "metadata": {
        "colab": {
          "base_uri": "https://localhost:8080/",
          "height": 296
        },
        "id": "YIAeixEJA0vW",
        "outputId": "5ddf14e3-b86a-430f-8d28-4546815cc877"
      },
      "source": [
        "sn.histplot(data=data,x=\"item\",y=\"sales\")"
      ],
      "execution_count": null,
      "outputs": [
        {
          "output_type": "execute_result",
          "data": {
            "text/plain": [
              "<matplotlib.axes._subplots.AxesSubplot at 0x7f50dfddb410>"
            ]
          },
          "metadata": {
            "tags": []
          },
          "execution_count": 22
        },
        {
          "output_type": "display_data",
          "data": {
            "image/png": "[encoded data removed]",
            "text/plain": [
              "<Figure size 432x288 with 1 Axes>"
            ]
          },
          "metadata": {
            "tags": [],
            "needs_background": "light"
          }
        }
      ]
    },
    {
      "cell_type": "code",
      "metadata": {
        "colab": {
          "base_uri": "https://localhost:8080/"
        },
        "id": "C99ItIzDC983",
        "outputId": "2b350385-8012-4b2c-8f4a-611ce8d3a29c"
      },
      "source": [
        "print(data.isnull().sum())"
      ],
      "execution_count": null,
      "outputs": [
        {
          "output_type": "stream",
          "text": [
            "date     0\n",
            "store    0\n",
            "item     0\n",
            "sales    0\n",
            "dtype: int64\n"
          ],
          "name": "stdout"
        }
      ]
    },
    {
      "cell_type": "code",
      "metadata": {
        "colab": {
          "base_uri": "https://localhost:8080/"
        },
        "id": "F0OvNBKdCsPW",
        "outputId": "382f96a2-bf81-400b-e0ca-9bbb4892990e"
      },
      "source": [
        "print(data['date'].dtype)"
      ],
      "execution_count": null,
      "outputs": [
        {
          "output_type": "stream",
          "text": [
            "object\n"
          ],
          "name": "stdout"
        }
      ]
    },
    {
      "cell_type": "code",
      "metadata": {
        "colab": {
          "base_uri": "https://localhost:8080/",
          "height": 296
        },
        "id": "4b3PO_b3DUxX",
        "outputId": "674d43a5-bdb7-4726-f55a-1fba0a668560"
      },
      "source": [
        "sn.histplot(data=data,x='store',kde=True)"
      ],
      "execution_count": null,
      "outputs": [
        {
          "output_type": "execute_result",
          "data": {
            "text/plain": [
              "<matplotlib.axes._subplots.AxesSubplot at 0x7f50dfd19350>"
            ]
          },
          "metadata": {
            "tags": []
          },
          "execution_count": 25
        },
        {
          "output_type": "display_data",
          "data": {
            "image/png": "[encoded data removed]",
            "text/plain": [
              "<Figure size 432x288 with 1 Axes>"
            ]
          },
          "metadata": {
            "tags": [],
            "needs_background": "light"
          }
        }
      ]
    },
    {
      "cell_type": "code",
      "metadata": {
        "id": "O04FMZ4nJa_W"
      },
      "source": [
        "from sklearn.model_selection import train_test_split"
      ],
      "execution_count": null,
      "outputs": []
    },
    {
      "cell_type": "code",
      "metadata": {
        "id": "TMSaumgjfHTf"
      },
      "source": [
        "data=data.drop(['date'],axis=1)"
      ],
      "execution_count": null,
      "outputs": []
    },
    {
      "cell_type": "code",
      "metadata": {
        "id": "yDyToKFHfyKm",
        "colab": {
          "base_uri": "https://localhost:8080/"
        },
        "outputId": "5b63eecd-3dcc-46c0-a4e7-8bc8d476de7f"
      },
      "source": [
        "data.fillna(data.mean(),inplace=True)\n",
        "X=data.iloc[:,:-1].values\n",
        "\n",
        "y=data.iloc[:,-1].values\n",
        "print(X.shape)\n",
        "\n",
        "print(y.shape)\n"
      ],
      "execution_count": null,
      "outputs": [
        {
          "output_type": "stream",
          "text": [
            "(913000, 2)\n",
            "(913000,)\n"
          ],
          "name": "stdout"
        }
      ]
    },
    {
      "cell_type": "code",
      "metadata": {
        "colab": {
          "base_uri": "https://localhost:8080/",
          "height": 402
        },
        "id": "iJmp3WNGHumn",
        "outputId": "074ee385-e026-45db-9df4-7dc794bf2985"
      },
      "source": [
        "from sklearn.preprocessing import StandardScaler\n",
        "sc=StandardScaler()\n",
        "X=sc.fit_transform(X)\n",
        "pd.DataFrame(X)"
      ],
      "execution_count": null,
      "outputs": [
        {
          "output_type": "execute_result",
          "data": {
            "text/html": [
              "<div>\n",
              "<style scoped>\n",
              "    .dataframe tbody tr th:only-of-type {\n",
              "        vertical-align: middle;\n",
              "    }\n",
              "\n",
              "    .dataframe tbody tr th {\n",
              "        vertical-align: top;\n",
              "    }\n",
              "\n",
              "    .dataframe thead th {\n",
              "        text-align: right;\n",
              "    }\n",
              "</style>\n",
              "<table border=\"1\" class=\"dataframe\">\n",
              "  <thead>\n",
              "    <tr style=\"text-align: right;\">\n",
              "      <th></th>\n",
              "      <th>0</th>\n",
              "      <th>1</th>\n",
              "    </tr>\n",
              "  </thead>\n",
              "  <tbody>\n",
              "    <tr>\n",
              "      <th>0</th>\n",
              "      <td>-1.566699</td>\n",
              "      <td>-1.697749</td>\n",
              "    </tr>\n",
              "    <tr>\n",
              "      <th>1</th>\n",
              "      <td>-1.566699</td>\n",
              "      <td>-1.697749</td>\n",
              "    </tr>\n",
              "    <tr>\n",
              "      <th>2</th>\n",
              "      <td>-1.566699</td>\n",
              "      <td>-1.697749</td>\n",
              "    </tr>\n",
              "    <tr>\n",
              "      <th>3</th>\n",
              "      <td>-1.566699</td>\n",
              "      <td>-1.697749</td>\n",
              "    </tr>\n",
              "    <tr>\n",
              "      <th>4</th>\n",
              "      <td>-1.566699</td>\n",
              "      <td>-1.697749</td>\n",
              "    </tr>\n",
              "    <tr>\n",
              "      <th>...</th>\n",
              "      <td>...</td>\n",
              "      <td>...</td>\n",
              "    </tr>\n",
              "    <tr>\n",
              "      <th>912995</th>\n",
              "      <td>1.566699</td>\n",
              "      <td>1.697749</td>\n",
              "    </tr>\n",
              "    <tr>\n",
              "      <th>912996</th>\n",
              "      <td>1.566699</td>\n",
              "      <td>1.697749</td>\n",
              "    </tr>\n",
              "    <tr>\n",
              "      <th>912997</th>\n",
              "      <td>1.566699</td>\n",
              "      <td>1.697749</td>\n",
              "    </tr>\n",
              "    <tr>\n",
              "      <th>912998</th>\n",
              "      <td>1.566699</td>\n",
              "      <td>1.697749</td>\n",
              "    </tr>\n",
              "    <tr>\n",
              "      <th>912999</th>\n",
              "      <td>1.566699</td>\n",
              "      <td>1.697749</td>\n",
              "    </tr>\n",
              "  </tbody>\n",
              "</table>\n",
              "<p>913000 rows × 2 columns</p>\n",
              "</div>"
            ],
            "text/plain": [
              "               0         1\n",
              "0      -1.566699 -1.697749\n",
              "1      -1.566699 -1.697749\n",
              "2      -1.566699 -1.697749\n",
              "3      -1.566699 -1.697749\n",
              "4      -1.566699 -1.697749\n",
              "...          ...       ...\n",
              "912995  1.566699  1.697749\n",
              "912996  1.566699  1.697749\n",
              "912997  1.566699  1.697749\n",
              "912998  1.566699  1.697749\n",
              "912999  1.566699  1.697749\n",
              "\n",
              "[913000 rows x 2 columns]"
            ]
          },
          "metadata": {
            "tags": []
          },
          "execution_count": 29
        }
      ]
    },
    {
      "cell_type": "code",
      "metadata": {
        "id": "d9HyEHr3GPcq"
      },
      "source": [
        "X_train,X_test,y_train,y_test=train_test_split(X,y,train_size=0.2)"
      ],
      "execution_count": null,
      "outputs": []
    },
    {
      "cell_type": "code",
      "metadata": {
        "colab": {
          "base_uri": "https://localhost:8080/"
        },
        "id": "YL5bZZDcGReq",
        "outputId": "4d67f757-1b3a-4d03-fc6b-16378f5b8101"
      },
      "source": [
        "print(X_train.shape)\n",
        "print(X_test.shape)"
      ],
      "execution_count": null,
      "outputs": [
        {
          "output_type": "stream",
          "text": [
            "(182600, 2)\n",
            "(730400, 2)\n"
          ],
          "name": "stdout"
        }
      ]
    },
    {
      "cell_type": "code",
      "metadata": {
        "id": "QVNhBjVBR6l-"
      },
      "source": [
        "from sklearn.metrics import mean_absolute_error, mean_squared_error \n",
        "from sklearn.metrics import mean_squared_log_error, median_absolute_error\n",
        "from xgboost import XGBRegressor  \n",
        "from sklearn.ensemble import RandomForestRegressor\n",
        "from sklearn.metrics import r2_score"
      ],
      "execution_count": null,
      "outputs": []
    },
    {
      "cell_type": "code",
      "metadata": {
        "id": "YoGwiURcECAM"
      },
      "source": [
        "from sklearn.linear_model import LinearRegression\n",
        "regressor= LinearRegression()\n",
        "regressor.fit(X_train,y_train)\n",
        "y_pred=regressor.predict(X_test)\n",
        "R2_score=r2_score(y_test,y_pred)\n",
        "mae=mean_absolute_error(y_test,y_pred)\n",
        "msle = mean_squared_log_error(y_test, y_pred)\n",
        "mdabse = median_absolute_error(y_test, y_pred)\n",
        "rmse = np.sqrt(mean_squared_error(y_test, y_pred))\n"
      ],
      "execution_count": null,
      "outputs": []
    },
    {
      "cell_type": "code",
      "metadata": {
        "colab": {
          "base_uri": "https://localhost:8080/"
        },
        "id": "4rb_PhD9G-6K",
        "outputId": "6b4db531-906a-4ea8-9e4f-d4615a3b6128"
      },
      "source": [
        "print(\"Model R2 score:\",R2_score)\n",
        "print(\"Mean absolute error:\",mae)\n",
        "print(\"Mean squared log error:\",msle)\n",
        "print(\"median absolute error:\",mdabse)\n",
        "print(\"mean squared error:\",rmse)\n",
        "\n"
      ],
      "execution_count": null,
      "outputs": [
        {
          "output_type": "stream",
          "text": [
            "Model R2 score: 0.0031328874589378053\n",
            "Mean absolute error: 23.111081918957293\n",
            "Mean squared log error: 0.35873168176808545\n",
            "median absolute error: 20.62290031379611\n",
            "mean squared error: 28.761605856506073\n"
          ],
          "name": "stdout"
        }
      ]
    },
    {
      "cell_type": "code",
      "metadata": {
        "id": "xGOQMf6gMVzY"
      },
      "source": [
        "from sklearn.model_selection import cross_val_score\n",
        "from sklearn.tree import DecisionTreeRegressor\n",
        "regressor=DecisionTreeRegressor(random_state=1000)\n",
        "regressor.fit(X_train,y_train)\n",
        "y_pred=regressor.predict(X_test)\n",
        "score=r2_score(y_test,y_pred)\n",
        "R2_score=r2_score(y_test,y_pred)\n",
        "mae=mean_absolute_error(y_test,y_pred)\n",
        "msle = mean_squared_log_error(y_test, y_pred)\n",
        "mdabse = median_absolute_error(y_test, y_pred)\n",
        "rmse = np.sqrt(mean_squared_error(y_test, y_pred))"
      ],
      "execution_count": null,
      "outputs": []
    },
    {
      "cell_type": "code",
      "metadata": {
        "colab": {
          "base_uri": "https://localhost:8080/"
        },
        "id": "sMZ6VOYiNOo9",
        "outputId": "43579143-ef5b-42f8-ed52-0dc47a51e5f9"
      },
      "source": [
        "print(\"Model R2 score:\",R2_score)\n",
        "print(\"Mean absolute error:\",mae)\n",
        "print(\"Mean squared log error:\",msle)\n",
        "print(\"median absolute error:\",mdabse)\n",
        "print(\"mean squared error:\",rmse)"
      ],
      "execution_count": null,
      "outputs": [
        {
          "output_type": "stream",
          "text": [
            "Model R2 score: 0.6955641121167142\n",
            "Mean absolute error: 11.92559767859915\n",
            "Mean squared log error: 0.09089268156879722\n",
            "median absolute error: 9.052325581395348\n",
            "mean squared error: 15.894337106310903\n"
          ],
          "name": "stdout"
        }
      ]
    },
    {
      "cell_type": "code",
      "metadata": {
        "id": "CLlgcl7KNSOM"
      },
      "source": [
        "regressor=RandomForestRegressor(random_state=42,n_jobs=-1)\n",
        "regressor.fit(X_train,y_train)\n",
        "y_pred=regressor.predict(X_test)\n",
        "score=r2_score(y_test,y_pred)\n",
        "R2_score=r2_score(y_test,y_pred)\n",
        "mae=mean_absolute_error(y_test,y_pred)\n",
        "msle = mean_squared_log_error(y_test, y_pred)\n",
        "mdabse = median_absolute_error(y_test, y_pred)\n",
        "rmse = np.sqrt(mean_squared_error(y_test, y_pred))"
      ],
      "execution_count": null,
      "outputs": []
    },
    {
      "cell_type": "code",
      "metadata": {
        "colab": {
          "base_uri": "https://localhost:8080/"
        },
        "id": "-Voqfz3BW7n3",
        "outputId": "31773d9f-583d-43b1-d4da-5debefa6371c"
      },
      "source": [
        "print(\"Model R2 score:\",R2_score)\n",
        "print(\"Mean absolute error:\",mae)\n",
        "print(\"Mean squared log error:\",msle)\n",
        "print(\"median absolute error:\",mdabse)\n",
        "print(\"mean squared error:\",rmse)"
      ],
      "execution_count": null,
      "outputs": [
        {
          "output_type": "stream",
          "text": [
            "Model R2 score: 0.6955453863721854\n",
            "Mean absolute error: 11.92567725971201\n",
            "Mean squared log error: 0.09088863939139895\n",
            "median absolute error: 9.058660531044879\n",
            "mean squared error: 15.894825926340445\n"
          ],
          "name": "stdout"
        }
      ]
    },
    {
      "cell_type": "code",
      "metadata": {
        "colab": {
          "base_uri": "https://localhost:8080/"
        },
        "id": "eMOnemELXMTW",
        "outputId": "4155eefa-aed1-499e-bd0b-78bd2040cbe4"
      },
      "source": [
        "regressor = XGBRegressor(random_state=42, n_jobs=-1)\n",
        "regressor.fit(X_train, y_train)\n",
        "y_pred = regressor.predict(X_test)\n",
        "score=r2_score(y_test,y_pred)\n",
        "R2_score=r2_score(y_test,y_pred)\n",
        "mae=mean_absolute_error(y_test,y_pred)\n",
        "msle = mean_squared_log_error(y_test, y_pred)\n",
        "mdabse = median_absolute_error(y_test, y_pred)\n",
        "rmse = np.sqrt(mean_squared_error(y_test, y_pred))"
      ],
      "execution_count": null,
      "outputs": [
        {
          "output_type": "stream",
          "text": [
            "[14:08:47] WARNING: /workspace/src/objective/regression_obj.cu:152: reg:linear is now deprecated in favor of reg:squarederror.\n"
          ],
          "name": "stdout"
        }
      ]
    },
    {
      "cell_type": "code",
      "metadata": {
        "colab": {
          "base_uri": "https://localhost:8080/"
        },
        "id": "hRj49bZVXUX1",
        "outputId": "d189d9e3-2327-49dc-863e-dcf5f885299a"
      },
      "source": [
        "print(\"Model R2 score:\",R2_score)\n",
        "print(\"Mean absolute error:\",mae)\n",
        "print(\"Mean squared log error:\",msle)\n",
        "print(\"median absolute error:\",mdabse)\n",
        "print(\"mean squared error:\",rmse)"
      ],
      "execution_count": null,
      "outputs": [
        {
          "output_type": "stream",
          "text": [
            "Model R2 score: 0.604540492097968\n",
            "Mean absolute error: 13.710448261481126\n",
            "Mean squared log error: 0.1259323527651073\n",
            "median absolute error: 10.901134490966797\n",
            "mean squared error: 18.11529901748187\n"
          ],
          "name": "stdout"
        }
      ]
    },
    {
      "cell_type": "code",
      "metadata": {
        "id": "ugmueRdoXh8s"
      },
      "source": [
        "from sklearn.preprocessing import PolynomialFeatures\n",
        "poly_reg = PolynomialFeatures()\n",
        "X_poly = poly_reg.fit_transform(X_train)\n",
        "regressor = LinearRegression()\n",
        "regressor.fit(X_poly, y_train)\n",
        "y_pred = regressor.predict(poly_reg.transform(X_test))\n",
        "score=r2_score(y_test,y_pred)\n",
        "R2_score=r2_score(y_test,y_pred)\n",
        "mae=mean_absolute_error(y_test,y_pred)\n",
        "msle = mean_squared_log_error(y_test, y_pred)\n",
        "mdabse = median_absolute_error(y_test, y_pred)\n",
        "rmse = np.sqrt(mean_squared_error(y_test, y_pred))"
      ],
      "execution_count": null,
      "outputs": []
    },
    {
      "cell_type": "code",
      "metadata": {
        "colab": {
          "base_uri": "https://localhost:8080/"
        },
        "id": "Hu9x7AfnXqxt",
        "outputId": "2b247234-3117-4446-c020-4c7e3384e517"
      },
      "source": [
        "print(\"Model R2 score:\",R2_score)\n",
        "print(\"Mean absolute error:\",mae)\n",
        "print(\"Mean squared log error:\",msle)\n",
        "print(\"median absolute error:\",mdabse)\n",
        "print(\"mean squared error:\",rmse)"
      ],
      "execution_count": null,
      "outputs": [
        {
          "output_type": "stream",
          "text": [
            "Model R2 score: 0.057974492784488296\n",
            "Mean absolute error: 22.451894052711317\n",
            "Mean squared log error: 0.3352257382830095\n",
            "median absolute error: 19.905509439444117\n",
            "mean squared error: 27.959269959208832\n"
          ],
          "name": "stdout"
        }
      ]
    }
  ]
}