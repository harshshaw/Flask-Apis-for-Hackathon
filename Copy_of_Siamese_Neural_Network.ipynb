{
  "nbformat": 4,
  "nbformat_minor": 0,
  "metadata": {
    "accelerator": "GPU",
    "colab": {
      "name": "Copy of Siamese Neural Network.ipynb",
      "provenance": [],
      "collapsed_sections": [],
      "include_colab_link": true
    },
    "kernelspec": {
      "display_name": "Python 3",
      "name": "python3"
    }
  },
  "cells": [
    {
      "cell_type": "markdown",
      "metadata": {
        "id": "view-in-github",
        "colab_type": "text"
      },
      "source": [
        "<a href=\"https://colab.research.google.com/github/harshshaw/Flask-Apis-for-Hackathon/blob/main/Copy_of_Siamese_Neural_Network.ipynb\" target=\"_parent\"><img src=\"https://colab.research.google.com/assets/colab-badge.svg\" alt=\"Open In Colab\"/></a>"
      ]
    },
    {
      "cell_type": "markdown",
      "metadata": {
        "id": "EDMURKIHPI7E"
      },
      "source": [
        "# Siamese Neural Network\n",
        "\n",
        "Siamese neural network is a class of neural network architectures that contain two or more identical sub networks. identical here means they have the same configuration with the same parameters and weights. Parameter updating is mirrored across both sub networks.It is used find the similarity of the inputs by comparing its feature vectors.\n",
        "\n",
        "For more details check this blog : https://innovationincubator.com/siamaese-neural-network-with-paytorch-code-example/"
      ]
    },
    {
      "cell_type": "markdown",
      "metadata": {
        "id": "vLqOxtMiPgSJ"
      },
      "source": [
        "## Steps to create classifier using Siamese Neural Network \n",
        "\n",
        "\n",
        "1.   **Data Preprocessing**\n",
        "2.   **Define the Siamese Network**\n",
        "3.   **Feature Vector Extraction**\n",
        "4.   **Similarity Score Calculation**\n",
        "5.   **Defininf Loss Function**\n",
        "6.   **Optimizer**\n",
        "7.   **Testing using One-Shot Learnig**\n",
        "8.   **Making Predictions**\n",
        "\n"
      ]
    },
    {
      "cell_type": "markdown",
      "metadata": {
        "id": "EQVRApGcQiKR"
      },
      "source": [
        "Let's  go step wise "
      ]
    },
    {
      "cell_type": "markdown",
      "metadata": {
        "id": "ZwVjRxLM7_3A"
      },
      "source": [
        "## Import and Install all the necessary packages"
      ]
    },
    {
      "cell_type": "code",
      "metadata": {
        "colab": {
          "base_uri": "https://localhost:8080/"
        },
        "id": "zior1c9kKquX",
        "outputId": "c06f7ce7-440b-4997-a083-746ae6934878"
      },
      "source": [
        "pip install \"wheel==0.34.2\""
      ],
      "execution_count": null,
      "outputs": [
        {
          "output_type": "stream",
          "text": [
            "Requirement already satisfied: wheel==0.34.2 in /usr/local/lib/python3.7/dist-packages (0.34.2)\n"
          ],
          "name": "stdout"
        }
      ]
    },
    {
      "cell_type": "code",
      "metadata": {
        "colab": {
          "base_uri": "https://localhost:8080/"
        },
        "id": "H6S_xl70PpAw",
        "outputId": "766cc0f0-209c-4ead-c6a7-fe5508055650"
      },
      "source": [
        "from os.path import exists\n",
        "from wheel.pep425tags import get_abbr_impl, get_impl_ver, get_abi_tag\n",
        "platform = '{}{}-{}'.format(get_abbr_impl(), get_impl_ver(), get_abi_tag())\n",
        "cuda_output = !ldconfig -p|grep cudart.so|sed -e 's/.*\\.\\([0-9]*\\)\\.\\([0-9]*\\)$/cu\\1\\2/'\n",
        "accelerator = cuda_output[0] if exists('/dev/nvidia0') else 'cpu'\n",
        "\n",
        "!pip3 install torch==1.8.1+cu102 torchvision==0.9.1+cu102 torchaudio===0.8.1 -f https://download.pytorch.org/whl/torch_stable.html"
      ],
      "execution_count": null,
      "outputs": [
        {
          "output_type": "stream",
          "text": [
            "Looking in links: https://download.pytorch.org/whl/torch_stable.html\n",
            "Requirement already satisfied: torch==1.8.1+cu102 in /usr/local/lib/python3.7/dist-packages (1.8.1+cu102)\n",
            "Requirement already satisfied: torchvision==0.9.1+cu102 in /usr/local/lib/python3.7/dist-packages (0.9.1+cu102)\n",
            "Requirement already satisfied: torchaudio===0.8.1 in /usr/local/lib/python3.7/dist-packages (0.8.1)\n",
            "Requirement already satisfied: typing-extensions in /usr/local/lib/python3.7/dist-packages (from torch==1.8.1+cu102) (3.7.4.3)\n",
            "Requirement already satisfied: numpy in /usr/local/lib/python3.7/dist-packages (from torch==1.8.1+cu102) (1.19.5)\n",
            "Requirement already satisfied: pillow>=4.1.1 in /usr/local/lib/python3.7/dist-packages (from torchvision==0.9.1+cu102) (4.1.1)\n",
            "Requirement already satisfied: olefile in /usr/local/lib/python3.7/dist-packages (from pillow>=4.1.1->torchvision==0.9.1+cu102) (0.46)\n"
          ],
          "name": "stdout"
        }
      ]
    },
    {
      "cell_type": "code",
      "metadata": {
        "id": "esGrw0waQlwP"
      },
      "source": [
        "# Import all the necessary Library \n",
        "import torchvision\n",
        "import torch.utils.data as utils\n",
        "from torchvision import datasets\n",
        "import torchvision.transforms as transforms\n",
        "from torch.utils.data import DataLoader,Dataset\n",
        "from torch.autograd import Variable\n",
        "import matplotlib.pyplot as plt\n",
        "import torchvision.utils\n",
        "import numpy as np\n",
        "import time\n",
        "import copy\n",
        "from torch.optim import lr_scheduler\n",
        "import os\n",
        "from PIL import Image\n",
        "import torch\n",
        "from torch.autograd import Variable\n",
        "import PIL.ImageOps    \n",
        "import torch.nn as nn\n",
        "from torch import optim\n",
        "import torch.nn.functional as F\n",
        "import pandas as pd \n"
      ],
      "execution_count": null,
      "outputs": []
    },
    {
      "cell_type": "code",
      "metadata": {
        "colab": {
          "base_uri": "https://localhost:8080/"
        },
        "id": "xg4WD1Dmzn5c",
        "outputId": "6a15e470-bc73-4b96-ee33-8b320412f22a"
      },
      "source": [
        "!pip install pillow==4.1.1\n",
        "%reload_ext autoreload\n",
        "%autoreload"
      ],
      "execution_count": null,
      "outputs": [
        {
          "output_type": "stream",
          "text": [
            "Requirement already satisfied: pillow==4.1.1 in /usr/local/lib/python3.7/dist-packages (4.1.1)\n",
            "Requirement already satisfied: olefile in /usr/local/lib/python3.7/dist-packages (from pillow==4.1.1) (0.46)\n"
          ],
          "name": "stdout"
        }
      ]
    },
    {
      "cell_type": "markdown",
      "metadata": {
        "id": "PmRRnTkx8Gdf"
      },
      "source": [
        "### Additional Utility Functions "
      ]
    },
    {
      "cell_type": "code",
      "metadata": {
        "id": "8lbUsE940bz1"
      },
      "source": [
        "def imshow(img,text=None,should_save=False):\n",
        "    npimg = img.numpy()\n",
        "    plt.axis(\"off\")\n",
        "    if text:\n",
        "        plt.text(75, 8, text, style='italic',fontweight='bold',\n",
        "            bbox={'facecolor':'white', 'alpha':0.8, 'pad':10})\n",
        "    plt.imshow(np.transpose(npimg, (1, 2, 0)))\n",
        "    plt.show()    \n",
        "\n",
        "def show_plot(iteration,loss):\n",
        "    plt.plot(iteration,loss)\n",
        "    plt.show()"
      ],
      "execution_count": null,
      "outputs": []
    },
    {
      "cell_type": "code",
      "metadata": {
        "id": "o5NvCZbZeh4A"
      },
      "source": [
        "class Config():\n",
        "    training_dir = \"/content/drive/MyDrive/COVID\"\n",
        "    testing_dir = \"/content/drive/MyDrive/COVID\"\n",
        "    train_batch_size = 32\n",
        "    train_number_epochs = 20"
      ],
      "execution_count": null,
      "outputs": []
    },
    {
      "cell_type": "markdown",
      "metadata": {
        "id": "lSceosT-QYVv"
      },
      "source": [
        "## Load Dataset :\n",
        "\n",
        "Datasets can be downloaded from this Link:  https://drive.google.com/file/d/1q03FLpaolm6Jq5vM0a_AEnjJoqjtxgP8/view?usp=sharing\n",
        "\n",
        "**Copy the dataset directly to your drive and load it from there**"
      ]
    },
    {
      "cell_type": "code",
      "metadata": {
        "colab": {
          "base_uri": "https://localhost:8080/"
        },
        "id": "DdWYpSXkjnDB",
        "outputId": "8ef36388-29e5-4131-c984-6c8e4156dfab"
      },
      "source": [
        "!ls"
      ],
      "execution_count": null,
      "outputs": [
        {
          "output_type": "stream",
          "text": [
            "drive\t\t\t\t    sample_data\n",
            "Matrix-Data.csv\t\t\t    small_training_set.csv\n",
            "new_training_Dataset2_balanced.csv  small_training_set.xlsx\n",
            "new_training_Dataset2.csv\t    test_training_dataset.csv\n",
            "removed_training_value.csv\n"
          ],
          "name": "stdout"
        }
      ]
    },
    {
      "cell_type": "code",
      "metadata": {
        "colab": {
          "base_uri": "https://localhost:8080/"
        },
        "id": "t5gCKXjTPut2",
        "outputId": "83842c94-dce7-4517-dd72-1e729d85e495"
      },
      "source": [
        "from google.colab import drive\n",
        "\n",
        "drive.mount('/content/drive',force_remount=True)"
      ],
      "execution_count": null,
      "outputs": [
        {
          "output_type": "stream",
          "text": [
            "Mounted at /content/drive\n"
          ],
          "name": "stdout"
        }
      ]
    },
    {
      "cell_type": "code",
      "metadata": {
        "id": "EFbF-KBzDWNW"
      },
      "source": [
        "training_dir=\"/content/drive/MyDrive/COVID\"\n",
        "training_csv=\"/content/new_training_Dataset2_balanced.csv\"\n",
        "testing_csv=\"/content/test_training_dataset.csv\"\n",
        "testing_dir=\"/content/drive/MyDrive/COVID\"\n",
        "original=\"/content/train_data.csv\""
      ],
      "execution_count": null,
      "outputs": []
    },
    {
      "cell_type": "code",
      "metadata": {
        "colab": {
          "base_uri": "https://localhost:8080/",
          "height": 1000
        },
        "id": "nXYPDis8NK0x",
        "outputId": "1984753d-aa8e-46fe-925f-d8fdcb7d7568"
      },
      "source": [
        "''' training_df=pd.read_csv(training_csv,encoding=\"utf-8\")\n",
        "\n",
        "training_df=training_df.drop(columns='FORMAT')\n",
        "training_df=training_df.drop(columns='SIZE')\n",
        "first_half_image=training_df.iloc[0:1808,0:1].values\n",
        "last_half_image=training_df.iloc[-1808:,0:1].values\n",
        "new_first_image_column=pd.DataFrame(data=first_half_image,columns=['Image1'])\n",
        "new_last_image_column=pd.DataFrame(data=last_half_image,columns=['Image2'])\n",
        "\n",
        "\n",
        "\n",
        "\n",
        "training_df['label']=0\n",
        "training_df['label2']=1\n",
        "training_df.head() '''\n",
        "\n"
      ],
      "execution_count": null,
      "outputs": [
        {
          "output_type": "execute_result",
          "data": {
            "application/vnd.google.colaboratory.intrinsic+json": {
              "type": "string"
            },
            "text/plain": [
              "' training_df=pd.read_csv(training_csv,encoding=\"utf-8\")\\n\\ntraining_df=training_df.drop(columns=\\'FORMAT\\')\\ntraining_df=training_df.drop(columns=\\'SIZE\\')\\nfirst_half_image=training_df.iloc[0:1808,0:1].values\\nlast_half_image=training_df.iloc[-1808:,0:1].values\\nnew_first_image_column=pd.DataFrame(data=first_half_image,columns=[\\'Image1\\'])\\nnew_last_image_column=pd.DataFrame(data=last_half_image,columns=[\\'Image2\\'])\\n\\n\\n\\n\\ntraining_df[\\'label\\']=0\\ntraining_df[\\'label2\\']=1\\ntraining_df.head() '"
            ]
          },
          "metadata": {
            "tags": []
          },
          "execution_count": 10
        }
      ]
    },
    {
      "cell_type": "code",
      "metadata": {
        "colab": {
          "base_uri": "https://localhost:8080/",
          "height": 52
        },
        "id": "XPsgl71C2AU5",
        "outputId": "c792d0ae-7b0e-4623-eeba-b8e7b96b6c74"
      },
      "source": [
        "''' test_dataset=pd.read_csv(\"/content/Normal_Converted.metadata.csv\")\n",
        "\n",
        "test_dataset=test_dataset.drop(columns=\"FORMAT\")\n",
        "test_dataset=test_dataset.drop(columns=\"SIZE\")\n",
        "test_dataset.head() '''\n"
      ],
      "execution_count": null,
      "outputs": [
        {
          "output_type": "execute_result",
          "data": {
            "application/vnd.google.colaboratory.intrinsic+json": {
              "type": "string"
            },
            "text/plain": [
              "' test_dataset=pd.read_csv(\"/content/Normal_Converted.metadata.csv\")\\n\\ntest_dataset=test_dataset.drop(columns=\"FORMAT\")\\ntest_dataset=test_dataset.drop(columns=\"SIZE\")\\ntest_dataset.head() '"
            ]
          },
          "metadata": {
            "tags": []
          },
          "execution_count": 11
        }
      ]
    },
    {
      "cell_type": "markdown",
      "metadata": {
        "id": "pBOpcs9KRjWm"
      },
      "source": [
        "### Preprocessing and Loading Dataset\n",
        "\n",
        "We preprocessed all the images and loaded them as .npy files which is easy to transfer . You can follow your own preprocessing steps .\n"
      ]
    },
    {
      "cell_type": "code",
      "metadata": {
        "id": "VC5JhgpcPmP6"
      },
      "source": [
        "class SiameseNetworkDataset():\n",
        "   \n",
        "    def __init__(self,training_csv=None,training_dir=None,transform=None,pairwise=None):\n",
        "        # used to prepare the labels and images path\n",
        "        self.pairwise=pairwise\n",
        "        if(self.pairwise==False):\n",
        "          self.training_df=pd.read_csv(training_csv,encoding=\"utf-8\")\n",
        "          self.training_df.columns =[\"image1\",\"image2\",\"label\"]\n",
        "          print(\"CSV==\",self.training_df)\n",
        "          self.training_dir = training_dir    \n",
        "          self.transform = transform\n",
        "          \n",
        "        if(pairwise==True):\n",
        "          self.training_df=pd.read_csv(training_csv,encoding=\"utf-8\")\n",
        "          self.training_df.columns =[\"Target\",\"Reference\",\"assigned\",\"Original\"]\n",
        "          \n",
        "          self.training_dir = training_dir    \n",
        "          print(\"Directory===\",self.training_dir)\n",
        "          print(\"CSV==\",self.training_df)\n",
        "          self.transform = transform\n",
        "\n",
        "    def __getitem__(self,index):\n",
        "\n",
        "        # getting the image path\n",
        "        image1_path=os.path.join(self.training_dir,self.training_df.iat[index,0])\n",
        "        \n",
        "     \n",
        "        image2_path=os.path.join(self.training_dir,self.training_df.iat[index,1])\n",
        "        \n",
        "     \n",
        "        \n",
        "\n",
        "        \n",
        "        \n",
        "        # Loading the image\n",
        "        img0 = Image.open(image1_path)\n",
        "        img1 = Image.open(image2_path)\n",
        "        img0 = img0.convert(\"L\")\n",
        "        img1 = img1.convert(\"L\")\n",
        "        \n",
        "        # Apply image transformations\n",
        "        if self.transform is not None:\n",
        "            img0 = self.transform(img0)\n",
        "            img1 = self.transform(img1)\n",
        "        \n",
        "        return img0, img1 , torch.from_numpy(np.array([int(self.training_df.iat[index,2])],dtype=np.float32))\n",
        "    \n",
        "    def __len__(self):\n",
        "        return len(self.training_df)"
      ],
      "execution_count": null,
      "outputs": []
    },
    {
      "cell_type": "code",
      "metadata": {
        "colab": {
          "base_uri": "https://localhost:8080/"
        },
        "id": "Ws1NipMUQaI3",
        "outputId": "d67b801b-87fe-4c3c-f8d4-292582e8f0fb"
      },
      "source": [
        "# Load the the dataset from raw image folders\n",
        "siamese_dataset = SiameseNetworkDataset(training_csv,training_dir,\n",
        "                                        transform=transforms.Compose([transforms.Resize((105,105)),\n",
        "                                                                      transforms.ToTensor()\n",
        "                                                                      ]\n",
        "                                                                    ),\n",
        "                                        pairwise=False\n",
        "                                       )"
      ],
      "execution_count": null,
      "outputs": [
        {
          "output_type": "stream",
          "text": [
            "CSV==               image1           image2  label\n",
            "0     COVID-1535.png   COVID-3343.png      0\n",
            "1     COVID-1536.png   COVID-3344.png      0\n",
            "2     COVID-1537.png   COVID-3345.png      0\n",
            "3     COVID-1789.png   COVID-3597.png      0\n",
            "4     COVID-1790.png   COVID-3598.png      0\n",
            "...              ...              ...    ...\n",
            "2443  COVID-3029.png  Normal-1279.png      1\n",
            "2444  COVID-3030.png  Normal-1280.png      1\n",
            "2445  COVID-3031.png  Normal-1281.png      1\n",
            "2446  COVID-3032.png  Normal-1282.png      1\n",
            "2447  COVID-3033.png  Normal-1283.png      1\n",
            "\n",
            "[2448 rows x 3 columns]\n"
          ],
          "name": "stdout"
        }
      ]
    },
    {
      "cell_type": "code",
      "metadata": {
        "colab": {
          "base_uri": "https://localhost:8080/",
          "height": 249
        },
        "id": "eTpprbksZS80",
        "outputId": "0f4346a7-dd4e-4fc4-d89c-9975b6211e05"
      },
      "source": [
        "# Viewing the sample of images and to check whether its loading properly\n",
        "vis_dataloader = DataLoader(siamese_dataset,\n",
        "                        shuffle=True,\n",
        "                        batch_size=8)\n",
        "dataiter = iter(vis_dataloader)\n",
        "\n",
        "\n",
        "example_batch = next(dataiter)\n",
        "concatenated = torch.cat((example_batch[0],example_batch[1]),0)\n",
        "imshow(torchvision.utils.make_grid(concatenated))\n",
        "print(example_batch[2].numpy())"
      ],
      "execution_count": null,
      "outputs": [
        {
          "output_type": "display_data",
          "data": {
            "image/png": "[encoded data removed]",
            "text/plain": [
              "<Figure size 432x288 with 1 Axes>"
            ]
          },
          "metadata": {
            "tags": [],
            "needs_background": "light"
          }
        },
        {
          "output_type": "stream",
          "text": [
            "[[1.]\n",
            " [0.]\n",
            " [0.]\n",
            " [0.]\n",
            " [0.]\n",
            " [1.]\n",
            " [1.]\n",
            " [1.]]\n"
          ],
          "name": "stdout"
        }
      ]
    },
    {
      "cell_type": "markdown",
      "metadata": {
        "id": "5xhlmF-nj6_v"
      },
      "source": [
        "## Siamese Network Definition"
      ]
    },
    {
      "cell_type": "code",
      "metadata": {
        "id": "MjkBkyTomlU6"
      },
      "source": [
        "class SiameseNetwork(nn.Module):\n",
        "    def __init__(self):\n",
        "        super(SiameseNetwork, self).__init__()\n",
        "        \n",
        "        # Setting up the Sequential of CNN Layers\n",
        "        self.cnn1 = nn.Sequential(\n",
        "            \n",
        "            nn.Conv2d(1, 96, kernel_size=11,stride=1),\n",
        "            nn.ReLU(inplace=True),\n",
        "            nn.LocalResponseNorm(5,alpha=0.0001,beta=0.75,k=2),\n",
        "            nn.MaxPool2d(3, stride=2),\n",
        "            \n",
        "            nn.Conv2d(96, 256, kernel_size=5,stride=1,padding=2),\n",
        "            nn.ReLU(inplace=True),\n",
        "            nn.LocalResponseNorm(5,alpha=0.0001,beta=0.75,k=2),\n",
        "            nn.MaxPool2d(3, stride=2),\n",
        "            nn.Dropout2d(p=0.3),\n",
        "\n",
        "            nn.Conv2d(256,384 , kernel_size=3,stride=1,padding=1),\n",
        "            nn.ReLU(inplace=True),\n",
        "            \n",
        "            nn.MaxPool2d(3, stride=2),\n",
        "            nn.Dropout2d(p=0.3),\n",
        "\n",
        "        )\n",
        "        \n",
        "        # Defining the fully connected layers\n",
        "        self.fc1 = nn.Sequential(\n",
        "            nn.Linear(46464, 8192),\n",
        "            nn.ReLU(inplace=True),\n",
        "            nn.Dropout2d(p=0.5),\n",
        "            \n",
        "            nn.Linear(8192, 1024),\n",
        "            nn.ReLU(inplace=True),\n",
        "\n",
        "            nn.Linear(1024, 512),\n",
        "            nn.ReLU(inplace=True),\n",
        "            nn.Dropout2d(p=0.5),\n",
        "\n",
        "            nn.Linear(512, 128),\n",
        "            \n",
        "            )\n",
        "        \n",
        "  \n",
        "  \n",
        "    def forward_once(self, x):\n",
        "        # Forward pass \n",
        "        output = self.cnn1(x)\n",
        "        output = output.view(output.size()[0], -1)\n",
        "        output = self.fc1(output)\n",
        "        return output\n",
        "\n",
        "    def forward(self, input1, input2):\n",
        "        # forward pass of input 1\n",
        "        output1 = self.forward_once(input1)\n",
        "        # forward pass of input 2\n",
        "        output2 = self.forward_once(input2)\n",
        "        return output1, output2\n"
      ],
      "execution_count": null,
      "outputs": []
    },
    {
      "cell_type": "markdown",
      "metadata": {
        "id": "2xaKRzCV-vBD"
      },
      "source": [
        "### Loss Function"
      ]
    },
    {
      "cell_type": "code",
      "metadata": {
        "id": "nBjCIlhWk2MT"
      },
      "source": [
        "class ContrastiveLoss(torch.nn.Module):\n",
        "    \"\"\"\n",
        "    Contrastive loss function.\n",
        "    Based on: http://yann.lecun.com/exdb/publis/pdf/hadsell-chopra-lecun-06.pdf\n",
        "    \"\"\"\n",
        "\n",
        "    def __init__(self, margin=2.0):\n",
        "        super(ContrastiveLoss, self).__init__()\n",
        "        self.margin = margin\n",
        "\n",
        "    def forward(self, output1, output2, label):\n",
        "        euclidean_distance = F.pairwise_distance(output1, output2)\n",
        "        loss_contrastive = torch.mean((1-label) *( torch.pow(euclidean_distance, 2)) +\n",
        "                                      (label) * torch.pow(torch.clamp(self.margin - euclidean_distance, min=0.0), 2))\n",
        "\n",
        "\n",
        "        return loss_contrastive"
      ],
      "execution_count": null,
      "outputs": []
    },
    {
      "cell_type": "markdown",
      "metadata": {
        "id": "UyGA_GUt-0xp"
      },
      "source": [
        "### Train the Model"
      ]
    },
    {
      "cell_type": "code",
      "metadata": {
        "colab": {
          "base_uri": "https://localhost:8080/"
        },
        "id": "xO9uIznkXiB0",
        "outputId": "3d44bc7f-4879-4ef6-94d9-83ef5a217926"
      },
      "source": [
        "# Load the dataset as pytorch tensors using dataloader\n",
        "train_dataloader = DataLoader(siamese_dataset,\n",
        "                        shuffle=True,\n",
        "                        num_workers=8,\n",
        "                        batch_size=Config.train_batch_size)"
      ],
      "execution_count": null,
      "outputs": [
        {
          "output_type": "stream",
          "text": [
            "/usr/local/lib/python3.7/dist-packages/torch/utils/data/dataloader.py:477: UserWarning: This DataLoader will create 8 worker processes in total. Our suggested max number of worker in current system is 2, which is smaller than what this DataLoader is going to create. Please be aware that excessive worker creation might get DataLoader running slow or even freeze, lower the worker number to avoid potential slowness/freeze if necessary.\n",
            "  cpuset_checked))\n"
          ],
          "name": "stderr"
        }
      ]
    },
    {
      "cell_type": "code",
      "metadata": {
        "colab": {
          "base_uri": "https://localhost:8080/"
        },
        "id": "tspmR_2bd824",
        "outputId": "dd1cc058-1de2-4809-bd7c-28db054b7067"
      },
      "source": [
        "# Check whether you have GPU is loaded or not\n",
        "if torch.cuda.is_available():\n",
        "    print('Yes')"
      ],
      "execution_count": null,
      "outputs": [
        {
          "output_type": "stream",
          "text": [
            "Yes\n"
          ],
          "name": "stdout"
        }
      ]
    },
    {
      "cell_type": "code",
      "metadata": {
        "id": "dPnzoTXfE5cX"
      },
      "source": [
        "# Declare Siamese Network\n",
        "net = SiameseNetwork().cuda()\n",
        "# Decalre Loss Function\n",
        "criterion = ContrastiveLoss()\n",
        "# Declare Optimizer\n",
        "optimizer = optim.RMSprop(net.parameters(), lr=1e-4, alpha=0.99, eps=1e-8, weight_decay=0.005, momentum=0.5)"
      ],
      "execution_count": null,
      "outputs": []
    },
    {
      "cell_type": "code",
      "metadata": {
        "id": "6aUJOhkrFfu9"
      },
      "source": [
        "def train():\n",
        "    counter = []\n",
        "    loss_history = [] \n",
        "    iteration_number= 0\n",
        "    \n",
        "    for epoch in range(0,100):\n",
        "        for i, data in enumerate(train_dataloader,0):\n",
        "            img0, img1 , label = data\n",
        "            img0, img1 , label = img0.cuda(), img1.cuda() , label.cuda()\n",
        "            optimizer.zero_grad()\n",
        "            output1,output2 = net(img0,img1)\n",
        "            loss_contrastive = criterion(output1,output2,label)\n",
        "            loss_contrastive.backward()\n",
        "            optimizer.step()\n",
        "            if i %50 == 0 :\n",
        "                print(\"Epoch number {}\\n Current loss {}\\n\".format(epoch,loss_contrastive.item()))\n",
        "                iteration_number +=10\n",
        "                counter.append(iteration_number)\n",
        "                loss_history.append(loss_contrastive.item())\n",
        "    return net"
      ],
      "execution_count": null,
      "outputs": []
    },
    {
      "cell_type": "code",
      "metadata": {
        "colab": {
          "base_uri": "https://localhost:8080/"
        },
        "id": "oDx471-mBDGD",
        "outputId": "a055f751-6da8-4f0c-a6c6-e98f1b8629a1"
      },
      "source": [
        "device = torch.device('cuda' if torch.cuda.is_available() else 'cpu')\n",
        "# Train the model\n",
        "model = train()\n",
        "torch.save(model.state_dict(), \"/content/model.pt\")\n",
        "print(\"Model Saved Successfully\")"
      ],
      "execution_count": null,
      "outputs": [
        {
          "output_type": "stream",
          "text": [
            "/usr/local/lib/python3.7/dist-packages/torch/utils/data/dataloader.py:477: UserWarning: This DataLoader will create 8 worker processes in total. Our suggested max number of worker in current system is 2, which is smaller than what this DataLoader is going to create. Please be aware that excessive worker creation might get DataLoader running slow or even freeze, lower the worker number to avoid potential slowness/freeze if necessary.\n",
            "  cpuset_checked))\n"
          ],
          "name": "stderr"
        },
        {
          "output_type": "stream",
          "text": [
            "Epoch number 0\n",
            " Current loss 1.4254844188690186\n",
            "\n",
            "Epoch number 0\n",
            " Current loss 0.9954209923744202\n",
            "\n",
            "Epoch number 1\n",
            " Current loss 1.0099773406982422\n",
            "\n",
            "Epoch number 1\n",
            " Current loss 1.0186259746551514\n",
            "\n",
            "Epoch number 2\n",
            " Current loss 1.0153181552886963\n",
            "\n",
            "Epoch number 2\n",
            " Current loss 1.0379300117492676\n",
            "\n",
            "Epoch number 3\n",
            " Current loss 1.0180317163467407\n",
            "\n",
            "Epoch number 3\n",
            " Current loss 1.0208654403686523\n",
            "\n",
            "Epoch number 4\n",
            " Current loss 1.020500659942627\n",
            "\n",
            "Epoch number 4\n",
            " Current loss 0.8953791260719299\n",
            "\n",
            "Epoch number 5\n",
            " Current loss 1.009263277053833\n",
            "\n",
            "Epoch number 5\n",
            " Current loss 1.0604498386383057\n",
            "\n",
            "Epoch number 6\n",
            " Current loss 1.3165881633758545\n",
            "\n",
            "Epoch number 6\n",
            " Current loss 1.0342726707458496\n",
            "\n",
            "Epoch number 7\n",
            " Current loss 1.0443341732025146\n",
            "\n",
            "Epoch number 7\n",
            " Current loss 1.0006532669067383\n",
            "\n",
            "Epoch number 8\n",
            " Current loss 0.9440956115722656\n",
            "\n",
            "Epoch number 8\n",
            " Current loss 1.0868064165115356\n",
            "\n",
            "Epoch number 9\n",
            " Current loss 1.039902925491333\n",
            "\n",
            "Epoch number 9\n",
            " Current loss 1.0377246141433716\n",
            "\n",
            "Epoch number 10\n",
            " Current loss 1.0124599933624268\n",
            "\n",
            "Epoch number 10\n",
            " Current loss 0.9933485984802246\n",
            "\n",
            "Epoch number 11\n",
            " Current loss 1.082952857017517\n",
            "\n",
            "Epoch number 11\n",
            " Current loss 1.0384960174560547\n",
            "\n",
            "Epoch number 12\n",
            " Current loss 1.0327401161193848\n",
            "\n",
            "Epoch number 12\n",
            " Current loss 1.005707025527954\n",
            "\n",
            "Epoch number 13\n",
            " Current loss 1.0602667331695557\n",
            "\n",
            "Epoch number 13\n",
            " Current loss 1.0253880023956299\n",
            "\n",
            "Epoch number 14\n",
            " Current loss 1.0036300420761108\n",
            "\n",
            "Epoch number 14\n",
            " Current loss 1.0125354528427124\n",
            "\n",
            "Epoch number 15\n",
            " Current loss 1.0759586095809937\n",
            "\n",
            "Epoch number 15\n",
            " Current loss 0.9949468374252319\n",
            "\n",
            "Epoch number 16\n",
            " Current loss 1.0993931293487549\n",
            "\n",
            "Epoch number 16\n",
            " Current loss 1.0358874797821045\n",
            "\n",
            "Epoch number 17\n",
            " Current loss 0.9685987234115601\n",
            "\n",
            "Epoch number 17\n",
            " Current loss 1.0514789819717407\n",
            "\n",
            "Epoch number 18\n",
            " Current loss 0.9096659421920776\n",
            "\n",
            "Epoch number 18\n",
            " Current loss 0.9886941909790039\n",
            "\n",
            "Epoch number 19\n",
            " Current loss 0.873104989528656\n",
            "\n",
            "Epoch number 19\n",
            " Current loss 1.0054188966751099\n",
            "\n",
            "Epoch number 20\n",
            " Current loss 0.9692726135253906\n",
            "\n",
            "Epoch number 20\n",
            " Current loss 1.0293115377426147\n",
            "\n",
            "Epoch number 21\n",
            " Current loss 1.0600581169128418\n",
            "\n",
            "Epoch number 21\n",
            " Current loss 1.010048508644104\n",
            "\n",
            "Epoch number 22\n",
            " Current loss 1.089211344718933\n",
            "\n",
            "Epoch number 22\n",
            " Current loss 1.0120396614074707\n",
            "\n",
            "Epoch number 23\n",
            " Current loss 1.0300772190093994\n",
            "\n",
            "Epoch number 23\n",
            " Current loss 1.0315113067626953\n",
            "\n",
            "Epoch number 24\n",
            " Current loss 1.0108304023742676\n",
            "\n",
            "Epoch number 24\n",
            " Current loss 1.0094554424285889\n",
            "\n",
            "Epoch number 25\n",
            " Current loss 1.0900909900665283\n",
            "\n",
            "Epoch number 25\n",
            " Current loss 0.9896549582481384\n",
            "\n",
            "Epoch number 26\n",
            " Current loss 0.9543694853782654\n",
            "\n",
            "Epoch number 26\n",
            " Current loss 1.010254144668579\n",
            "\n",
            "Epoch number 27\n",
            " Current loss 1.035524606704712\n",
            "\n",
            "Epoch number 27\n",
            " Current loss 1.0015116930007935\n",
            "\n",
            "Epoch number 28\n",
            " Current loss 0.972973108291626\n",
            "\n",
            "Epoch number 28\n",
            " Current loss 0.9909914135932922\n",
            "\n",
            "Epoch number 29\n",
            " Current loss 1.0724515914916992\n",
            "\n",
            "Epoch number 29\n",
            " Current loss 1.2437410354614258\n",
            "\n",
            "Epoch number 30\n",
            " Current loss 0.9590117335319519\n",
            "\n",
            "Epoch number 30\n",
            " Current loss 1.0265294313430786\n",
            "\n",
            "Epoch number 31\n",
            " Current loss 1.0578489303588867\n",
            "\n",
            "Epoch number 31\n",
            " Current loss 1.0045124292373657\n",
            "\n",
            "Epoch number 32\n",
            " Current loss 0.8538479804992676\n",
            "\n",
            "Epoch number 32\n",
            " Current loss 0.9802247285842896\n",
            "\n",
            "Epoch number 33\n",
            " Current loss 1.0200796127319336\n",
            "\n",
            "Epoch number 33\n",
            " Current loss 1.0687562227249146\n",
            "\n",
            "Epoch number 34\n",
            " Current loss 1.048936367034912\n",
            "\n",
            "Epoch number 34\n",
            " Current loss 0.9873379468917847\n",
            "\n",
            "Epoch number 35\n",
            " Current loss 0.9630899429321289\n",
            "\n",
            "Epoch number 35\n",
            " Current loss 1.1934552192687988\n",
            "\n",
            "Epoch number 36\n",
            " Current loss 0.969963788986206\n",
            "\n",
            "Epoch number 36\n",
            " Current loss 1.03734290599823\n",
            "\n",
            "Epoch number 37\n",
            " Current loss 1.0448698997497559\n",
            "\n",
            "Epoch number 37\n",
            " Current loss 0.9900273680686951\n",
            "\n",
            "Epoch number 38\n",
            " Current loss 0.9961883425712585\n",
            "\n",
            "Epoch number 38\n",
            " Current loss 1.0105925798416138\n",
            "\n",
            "Epoch number 39\n",
            " Current loss 1.0725457668304443\n",
            "\n",
            "Epoch number 39\n",
            " Current loss 1.038214921951294\n",
            "\n",
            "Epoch number 40\n",
            " Current loss 1.058968186378479\n",
            "\n",
            "Epoch number 40\n",
            " Current loss 0.9906909465789795\n",
            "\n",
            "Epoch number 41\n",
            " Current loss 1.121042013168335\n",
            "\n",
            "Epoch number 41\n",
            " Current loss 1.012500524520874\n",
            "\n",
            "Epoch number 42\n",
            " Current loss 1.0038444995880127\n",
            "\n",
            "Epoch number 42\n",
            " Current loss 0.9693528413772583\n",
            "\n",
            "Epoch number 43\n",
            " Current loss 1.0433273315429688\n",
            "\n",
            "Epoch number 43\n",
            " Current loss 1.060523271560669\n",
            "\n",
            "Epoch number 44\n",
            " Current loss 1.0145370960235596\n",
            "\n",
            "Epoch number 44\n",
            " Current loss 0.9894640445709229\n",
            "\n",
            "Epoch number 45\n",
            " Current loss 1.005577802658081\n",
            "\n",
            "Epoch number 45\n",
            " Current loss 1.0143446922302246\n",
            "\n",
            "Epoch number 46\n",
            " Current loss 1.0397177934646606\n",
            "\n",
            "Epoch number 46\n",
            " Current loss 0.9644713401794434\n",
            "\n",
            "Epoch number 47\n",
            " Current loss 1.087764024734497\n",
            "\n",
            "Epoch number 47\n",
            " Current loss 1.0021650791168213\n",
            "\n",
            "Epoch number 48\n",
            " Current loss 0.990553081035614\n",
            "\n",
            "Epoch number 48\n",
            " Current loss 1.0069231986999512\n",
            "\n",
            "Epoch number 49\n",
            " Current loss 1.0028144121170044\n",
            "\n",
            "Epoch number 49\n",
            " Current loss 0.9784104824066162\n",
            "\n",
            "Epoch number 50\n",
            " Current loss 0.9784643650054932\n",
            "\n",
            "Epoch number 50\n",
            " Current loss 1.0030730962753296\n",
            "\n",
            "Epoch number 51\n",
            " Current loss 1.0532996654510498\n",
            "\n",
            "Epoch number 51\n",
            " Current loss 0.9937899112701416\n",
            "\n",
            "Epoch number 52\n",
            " Current loss 0.9894183874130249\n",
            "\n",
            "Epoch number 52\n",
            " Current loss 1.0021032094955444\n",
            "\n",
            "Epoch number 53\n",
            " Current loss 0.9916396141052246\n",
            "\n",
            "Epoch number 53\n",
            " Current loss 1.037957787513733\n",
            "\n",
            "Epoch number 54\n",
            " Current loss 1.0075175762176514\n",
            "\n",
            "Epoch number 54\n",
            " Current loss 1.0141422748565674\n",
            "\n",
            "Epoch number 55\n",
            " Current loss 1.0080286264419556\n",
            "\n",
            "Epoch number 55\n",
            " Current loss 0.9891977310180664\n",
            "\n",
            "Epoch number 56\n",
            " Current loss 0.9569914937019348\n",
            "\n",
            "Epoch number 56\n",
            " Current loss 1.0131914615631104\n",
            "\n",
            "Epoch number 57\n",
            " Current loss 0.9917776584625244\n",
            "\n",
            "Epoch number 57\n",
            " Current loss 1.000363826751709\n",
            "\n",
            "Epoch number 58\n",
            " Current loss 1.0030782222747803\n",
            "\n",
            "Epoch number 58\n",
            " Current loss 0.9751052856445312\n",
            "\n",
            "Epoch number 59\n",
            " Current loss 1.0139389038085938\n",
            "\n",
            "Epoch number 59\n",
            " Current loss 0.9929450750350952\n",
            "\n",
            "Epoch number 60\n",
            " Current loss 1.0125486850738525\n",
            "\n",
            "Epoch number 60\n",
            " Current loss 1.1214768886566162\n",
            "\n",
            "Epoch number 61\n",
            " Current loss 1.0482277870178223\n",
            "\n",
            "Epoch number 61\n",
            " Current loss 1.1124980449676514\n",
            "\n",
            "Epoch number 62\n",
            " Current loss 1.0059361457824707\n",
            "\n",
            "Epoch number 62\n",
            " Current loss 0.9701173305511475\n",
            "\n",
            "Epoch number 63\n",
            " Current loss 1.0267980098724365\n",
            "\n",
            "Epoch number 63\n",
            " Current loss 1.0577527284622192\n",
            "\n",
            "Epoch number 64\n",
            " Current loss 1.0449635982513428\n",
            "\n",
            "Epoch number 64\n",
            " Current loss 0.9910954236984253\n",
            "\n",
            "Epoch number 65\n",
            " Current loss 0.9722800254821777\n",
            "\n",
            "Epoch number 65\n",
            " Current loss 1.0354876518249512\n",
            "\n",
            "Epoch number 66\n",
            " Current loss 0.990904688835144\n",
            "\n",
            "Epoch number 66\n",
            " Current loss 1.0291533470153809\n",
            "\n",
            "Epoch number 67\n",
            " Current loss 1.0011968612670898\n",
            "\n",
            "Epoch number 67\n",
            " Current loss 1.0100176334381104\n",
            "\n",
            "Epoch number 68\n",
            " Current loss 0.9924747943878174\n",
            "\n",
            "Epoch number 68\n",
            " Current loss 1.0119799375534058\n",
            "\n",
            "Epoch number 69\n",
            " Current loss 1.0848209857940674\n",
            "\n",
            "Epoch number 69\n",
            " Current loss 0.9616392850875854\n",
            "\n",
            "Epoch number 70\n",
            " Current loss 1.013778805732727\n",
            "\n",
            "Epoch number 70\n",
            " Current loss 1.0018919706344604\n",
            "\n",
            "Epoch number 71\n",
            " Current loss 1.000652551651001\n",
            "\n",
            "Epoch number 71\n",
            " Current loss 1.0507373809814453\n",
            "\n",
            "Epoch number 72\n",
            " Current loss 0.9828445911407471\n",
            "\n",
            "Epoch number 72\n",
            " Current loss 0.9823168516159058\n",
            "\n"
          ],
          "name": "stdout"
        }
      ]
    },
    {
      "cell_type": "code",
      "metadata": {
        "id": "-EH_2bML3v2W"
      },
      "source": [
        "# Load the saved model\n",
        "device = torch.device('cuda' if torch.cuda.is_available() else 'cpu')\n",
        "model = SiameseNetwork().to(device)\n",
        "model.load_state_dict(torch.load(\"/content/model.pt\"))"
      ],
      "execution_count": null,
      "outputs": []
    },
    {
      "cell_type": "code",
      "metadata": {
        "id": "tYS8IFa9FD2C"
      },
      "source": [
        "# Load the test dataset\n",
        "''' test_dataset = SiameseNetworkDataset(training_csv=testing_csv,training_dir=testing_dir,\n",
        "                                        transform=transforms.Compose([transforms.Resize((105,105)),\n",
        "                                                                      transforms.ToTensor()\n",
        "                                                                      ]),\n",
        "                                     pairwise=False\n",
        "                                       )\n",
        "\n",
        "test_dataloader = DataLoader(test_dataset,num_workers=6,batch_size=1,shuffle=False) '''"
      ],
      "execution_count": null,
      "outputs": []
    },
    {
      "cell_type": "markdown",
      "metadata": {
        "id": "Lo5Jl-txHNHX"
      },
      "source": [
        "### Accuracy Check"
      ]
    },
    {
      "cell_type": "code",
      "metadata": {
        "id": "9HxlxqLiDBLq"
      },
      "source": [
        "''' import math\n",
        "test_dataloader = DataLoader(test_dataset,num_workers=6,batch_size=1,shuffle=True)\n",
        "accuracy=0\n",
        "counter=0\n",
        "correct=0\n",
        "for i, data in enumerate(test_dataloader,0): \n",
        "  x0, x1 , label = data\n",
        " \n",
        "  # onehsot applies in the output of 128 dense vectors which is then converted to 2 dense vectors\n",
        "  output1,output2 = model(x0.to(device),x1.to(device))\n",
        "  res=torch.abs(output1-output2)\n",
        "  res=torch.abs(output1.cuda() - output2.cuda())\n",
        " \n",
        "  label=label[0].tolist()\n",
        "  label=int(label[0])\n",
        "  result=torch.max(res,1)[0].item()\n",
        " \n",
        "  if(result<0.001):\n",
        "    result=0\n",
        "  if(result>=0.001):\n",
        "    result=1\n",
        " \n",
        "  if label == result:\n",
        "    correct=correct+1\n",
        "  counter=counter+1\n",
        "#   if counter ==20:\n",
        "#      break\n",
        "    \n",
        "accuracy=(correct/len(test_dataloader))*100\n",
        "print(\"Accuracy:{}%\".format(accuracy)) '''"
      ],
      "execution_count": null,
      "outputs": []
    },
    {
      "cell_type": "code",
      "metadata": {
        "id": "yNSfANA9mwM2"
      },
      "source": [
        "row_value=40\n",
        "matrix=np.zeros((row_value,10))\n",
        "print(matrix)\n",
        "   \n",
        "  \n"
      ],
      "execution_count": null,
      "outputs": []
    },
    {
      "cell_type": "code",
      "metadata": {
        "id": "b1mhUPkRSyhv"
      },
      "source": [
        "matrix_dataset = SiameseNetworkDataset(training_csv=\"Matrix-Data.csv\",training_dir=training_dir,\n",
        "                                        transform=transforms.Compose([transforms.Resize((105,105)),\n",
        "                                                                      transforms.ToTensor()\n",
        "                                                                      ]),\n",
        "                                     pairwise=True\n",
        "                                       )\n",
        "\n",
        "matrix_loader = DataLoader(matrix_dataset,num_workers=6,batch_size=1)"
      ],
      "execution_count": null,
      "outputs": []
    },
    {
      "cell_type": "code",
      "metadata": {
        "id": "-WksyJnOSxHz"
      },
      "source": [
        "counter=0\n",
        "list_0 = torch.FloatTensor([[0]])\n",
        "list_1 = torch.FloatTensor([[1]])\n",
        "column=0\n",
        "row=0\n",
        "for i, data in enumerate(matrix_loader,1): \n",
        "  x0, x1 , label = data\n",
        "  output1,output2 = model(x0.to(device),x1.to(device))\n",
        " \n",
        "  eucledian_distance = F.pairwise_distance(output1, output2)\n",
        "  if row==row_value:\n",
        "    break\n",
        "  matrix[row][column]=(eucledian_distance)\n",
        "  column=column+1\n",
        "  if column==10:\n",
        "    row=row+1\n",
        "    column=0\n",
        "  \n",
        "\n",
        "  ''' concatenated = torch.cat((x0,x1),0)\n",
        "  if label==list_0:\n",
        "    label=\"Orginial\"\n",
        "  else:\n",
        "    label=\"Forged\"\n",
        "  imshow(torchvision.utils.make_grid(concatenated),'Dissimilarity: {:.3f} Label: {}'.format(eucledian_distance.item(),label))\n",
        "  counter=counter+1 '''\n",
        "        \n",
        "    \n",
        "\n",
        "  "
      ],
      "execution_count": null,
      "outputs": []
    },
    {
      "cell_type": "code",
      "metadata": {
        "id": "FJ-QVORV13TT"
      },
      "source": [
        "\n",
        "print(matrix)\n",
        "column_index=0\n",
        "highest_value=[]\n",
        "for row in range(0,row_value):\n",
        "  max=100\n",
        "  for column in range(0,10):\n",
        "    if (max>=matrix[row][column]):\n",
        "      max=matrix[row][column]\n",
        "      column_index=column\n",
        "  highest_value.append(column_index)\n",
        "print(highest_value)\n",
        "\n"
      ],
      "execution_count": null,
      "outputs": []
    },
    {
      "cell_type": "code",
      "metadata": {
        "id": "KUums3piu1AB"
      },
      "source": [
        "similarity_data=pd.read_csv(\"/content/Matrix-Data.csv\",encoding='utf-8')\n",
        "similarity_data.head()\n",
        "counter=0\n",
        "precision=0\n",
        "for index in highest_value:\n",
        "\n",
        "  index+=counter*10\n",
        "  assigned_label=similarity_data.iat[index,2]\n",
        "  original_label=similarity_data.iat[index,3]\n",
        "  reference=similarity_data.iat[index,1]\n",
        "  target=similarity_data.iat[index,0]\n",
        "  counter=counter+1\n",
        "  print(\"Target==\",target,\"Reference==\",reference,\"Index==\",index)\n",
        "  \n",
        "\n",
        "  if assigned_label==original_label:\n",
        "    precision+=1\n",
        "accuracy=(precision/40)*100\n",
        "\n",
        "\n",
        "print(accuracy)\n",
        "  "
      ],
      "execution_count": null,
      "outputs": []
    },
    {
      "cell_type": "code",
      "metadata": {
        "id": "xLvKqeQFykPq"
      },
      "source": [
        ""
      ],
      "execution_count": null,
      "outputs": []
    },
    {
      "cell_type": "code",
      "metadata": {
        "id": "TjYr2tMyE8YH"
      },
      "source": [
        ""
      ],
      "execution_count": null,
      "outputs": []
    },
    {
      "cell_type": "markdown",
      "metadata": {
        "id": "fvN310goHeAg"
      },
      "source": [
        "## Final Touch "
      ]
    },
    {
      "cell_type": "markdown",
      "metadata": {
        "id": "9xEpayRvH3Oe"
      },
      "source": [
        "Thats it guys ! I am limited by time , computational power and knowledge .to get standard accuracy . But anyway this is the working code of Siamese Neural Network and you can try it for your own applications and dataset.\n",
        "\n",
        "Paper Reference: https://arxiv.org/pdf/1707.02131.pdf\n",
        "\n",
        "Thanks to Gupta Blog : https://hackernoon.com/one-shot-learning-with-siamese-networks-in-pytorch-8ddaab10340e"
      ]
    }
  ]
}